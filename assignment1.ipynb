{
 "cells": [
  {
   "cell_type": "code",
   "execution_count": 1,
   "id": "b6510c07",
   "metadata": {},
   "outputs": [
    {
     "name": "stdout",
     "output_type": "stream",
     "text": [
      "Twinkle, twinkle, little star\n",
      "         How I wonder what you are!\n",
      "                 Up above the world so high,\n",
      "                 Like a diamond in the sky,\n",
      "Twinkle, twinkle, little star\n",
      "         How I wonder what you are\n"
     ]
    }
   ],
   "source": [
    "print(\"Twinkle, twinkle, little star\");\n",
    "print(\"         How I wonder what you are!\");\n",
    "print(\"                 Up above the world so high,\");\n",
    "print(\"                 Like a diamond in the sky,\");\n",
    "print(\"Twinkle, twinkle, little star\");\n",
    "print(\"         How I wonder what you are\");"
   ]
  },
  {
   "cell_type": "code",
   "execution_count": 12,
   "id": "17a2e72f",
   "metadata": {},
   "outputs": [
    {
     "name": "stdout",
     "output_type": "stream",
     "text": [
      "3.9.7 (default, Sep 16 2021, 16:59:28) [MSC v.1916 64 bit (AMD64)]\n"
     ]
    }
   ],
   "source": [
    "import sys\n",
    "print(sys.version)"
   ]
  },
  {
   "cell_type": "code",
   "execution_count": 13,
   "id": "08ca9c00",
   "metadata": {},
   "outputs": [
    {
     "name": "stdout",
     "output_type": "stream",
     "text": [
      "2022-01-01 14:18:36.309470\n"
     ]
    }
   ],
   "source": [
    "import datetime\n",
    "\n",
    "print(datetime.datetime.now())"
   ]
  },
  {
   "cell_type": "code",
   "execution_count": null,
   "id": "9ec7216d",
   "metadata": {},
   "outputs": [],
   "source": []
  },
  {
   "cell_type": "code",
   "execution_count": 20,
   "id": "6e327556",
   "metadata": {},
   "outputs": [
    {
     "name": "stdout",
     "output_type": "stream",
     "text": [
      "Radius of Circle: 3\n",
      "Area =  28.2744 square units.\n"
     ]
    }
   ],
   "source": [
    "pie = 3.1416;\n",
    "r = input(\"Radius of Circle: \");\n",
    "r = eval(r);\n",
    "rsq = r * r\n",
    "area = pie * rsq;\n",
    "print(\"Area = \", area, \"square units.\");"
   ]
  },
  {
   "cell_type": "code",
   "execution_count": 23,
   "id": "254b0504",
   "metadata": {},
   "outputs": [
    {
     "name": "stdout",
     "output_type": "stream",
     "text": [
      "Enter First Name: Shaheryar\n",
      "Enter Last Name: Khan\n",
      "Khan  Shaheryar\n"
     ]
    }
   ],
   "source": [
    "fname = input(\"Enter First Name: \");\n",
    "lname = input(\"Enter Last Name: \");\n",
    "print(lname , \"\" , fname);\n"
   ]
  },
  {
   "cell_type": "code",
   "execution_count": 24,
   "id": "1947a5dd",
   "metadata": {},
   "outputs": [
    {
     "name": "stdout",
     "output_type": "stream",
     "text": [
      "Enter First Number: 3\n",
      "Enter Second Number: 4\n",
      "Addition is:  7\n"
     ]
    }
   ],
   "source": [
    "a = input(\"Enter First Number: \");\n",
    "b = input(\"Enter Second Number: \");\n",
    "a = eval(a);\n",
    "b = eval(b);\n",
    "c = a + b;\n",
    "print(\"Addition is: \", c);"
   ]
  },
  {
   "cell_type": "code",
   "execution_count": null,
   "id": "adfaf9fb",
   "metadata": {},
   "outputs": [],
   "source": []
  },
  {
   "cell_type": "code",
   "execution_count": null,
   "id": "6d23f2b5",
   "metadata": {},
   "outputs": [],
   "source": []
  }
 ],
 "metadata": {
  "kernelspec": {
   "display_name": "Python 3 (ipykernel)",
   "language": "python",
   "name": "python3"
  },
  "language_info": {
   "codemirror_mode": {
    "name": "ipython",
    "version": 3
   },
   "file_extension": ".py",
   "mimetype": "text/x-python",
   "name": "python",
   "nbconvert_exporter": "python",
   "pygments_lexer": "ipython3",
   "version": "3.9.7"
  }
 },
 "nbformat": 4,
 "nbformat_minor": 5
}
